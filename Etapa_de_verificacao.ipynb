{
 "cells": [
  {
   "cell_type": "code",
   "execution_count": 1,
   "id": "0078a35a",
   "metadata": {},
   "outputs": [],
   "source": [
    "import pandas as pd\n",
    "import sys\n",
    "sys.path.insert(1, './Etapa1')"
   ]
  },
  {
   "cell_type": "code",
   "execution_count": 2,
   "id": "58405746",
   "metadata": {},
   "outputs": [],
   "source": [
    "coluna_alvo = [\"target\"]\n",
    "X_train = pd.read_csv(\"data/train.csv\")\n",
    "y_train = X_train[coluna_alvo]\n",
    "X_test = pd.read_csv(\"data/test.csv\")"
   ]
  },
  {
   "cell_type": "code",
   "execution_count": 3,
   "id": "2501868e",
   "metadata": {},
   "outputs": [],
   "source": [
    "from utils import *\n",
    "X_train = X_train.drop(coluna_alvo, axis=1)\n",
    "X_train = MySimpleImputer(strategy=\"mean\").fit_transform(X_train)\n",
    "X_train = MyScaler().fit_transform(X_train)\n",
    "\n",
    "X_train[coluna_alvo] = y_train"
   ]
  },
  {
   "cell_type": "code",
   "execution_count": 4,
   "id": "b88bd2b6",
   "metadata": {},
   "outputs": [],
   "source": [
    "X_test = MySimpleImputer(strategy=\"mean\").fit_transform(X_test)\n",
    "X_test = MyScaler().fit_transform(X_test)"
   ]
  },
  {
   "cell_type": "code",
   "execution_count": 5,
   "id": "f28999bf",
   "metadata": {},
   "outputs": [
    {
     "name": "stderr",
     "output_type": "stream",
     "text": [
      "/home/z/Desktop/T1-Aprendizado_maquina/./Etapa1/naive_bayes.py:36: RuntimeWarning: divide by zero encountered in log\n",
      "  posteriori = np.log(np.prod((self.gaussian_pdf(idx, x))))\n"
     ]
    }
   ],
   "source": [
    "from sklearn.metrics import accuracy_score, precision_score, recall_score, f1_score\n",
    "from naive_bayes import NaiveBayes\n",
    "\n",
    "naive = NaiveBayes()\n",
    "naive.fit(X_train, y_train)\n",
    "y_pred = naive.predict(X_test)\n",
    "pd.DataFrame(list(y_pred)).to_csv(\"data/y_pred_naive.csv\", sep=',',header=None, index=False)"
   ]
  },
  {
   "cell_type": "code",
   "execution_count": 6,
   "id": "6c3de375-6d87-4e99-a472-5c733482fc62",
   "metadata": {},
   "outputs": [],
   "source": [
    "from sklearn.metrics import accuracy_score, precision_score, recall_score, f1_score\n",
    "from knn import KNN\n",
    "\n",
    "knn = KNN(3)\n",
    "X_train = X_train.drop(coluna_alvo, axis=1)\n",
    "knn.fit(X_train, y_train)\n",
    "y_pred = knn.predict(X_test)\n",
    "pd.DataFrame(list(y_pred)).to_csv(\"data/y_pred_knn_forca_bruta.csv\", sep=',',header=None, index=False)"
   ]
  }
 ],
 "metadata": {
  "kernelspec": {
   "display_name": "Python 3",
   "language": "python",
   "name": "python3"
  },
  "language_info": {
   "codemirror_mode": {
    "name": "ipython",
    "version": 3
   },
   "file_extension": ".py",
   "mimetype": "text/x-python",
   "name": "python",
   "nbconvert_exporter": "python",
   "pygments_lexer": "ipython3",
   "version": "3.8.10"
  }
 },
 "nbformat": 4,
 "nbformat_minor": 5
}
